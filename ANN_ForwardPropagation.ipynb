{
  "nbformat": 4,
  "nbformat_minor": 0,
  "metadata": {
    "colab": {
      "provenance": [],
      "authorship_tag": "ABX9TyNIpRpSCzgA6mMyWtUnYbDH",
      "include_colab_link": true
    },
    "kernelspec": {
      "name": "python3",
      "display_name": "Python 3"
    },
    "language_info": {
      "name": "python"
    }
  },
  "cells": [
    {
      "cell_type": "markdown",
      "metadata": {
        "id": "view-in-github",
        "colab_type": "text"
      },
      "source": [
        "<a href=\"https://colab.research.google.com/github/CursedOn3/ANN/blob/main/ANN_ForwardPropagation.ipynb\" target=\"_parent\"><img src=\"https://colab.research.google.com/assets/colab-badge.svg\" alt=\"Open In Colab\"/></a>"
      ]
    },
    {
      "cell_type": "code",
      "execution_count": null,
      "metadata": {
        "id": "KogzdFTucRlS"
      },
      "outputs": [],
      "source": [
        "import numpy as np"
      ]
    },
    {
      "cell_type": "code",
      "source": [
        "class Perceptron:\n",
        "    def __init__(self, learning_rate=0.1, epochs=100):\n",
        "        self.lr = learning_rate\n",
        "        self.epochs = epochs\n",
        "        self.weights = None\n",
        "        self.bias = None\n",
        "\n",
        "\n",
        "    def activation(self, z):\n",
        "        return 1 if z >= 0 \\\n",
        "            else 0  # Step function\n",
        "\n",
        "    def fit(self, X, y):\n",
        "        n_samples, n_features = X.shape\n",
        "        self.weights = np.zeros(n_features)\n",
        "        self.bias = 0\n",
        "\n",
        "        for _ in range(self.epochs):\n",
        "            for idx, x_i in enumerate(X):\n",
        "                linear_output = np.dot(x_i, self.weights) + self.bias\n",
        "                y_pred = self.activation(linear_output)\n",
        "                error = y[idx] - y_pred\n",
        "                self.weights += self.lr * error * x_i\n",
        "                self.bias += self.lr * error\n",
        "\n",
        "    def predict(self, X):\n",
        "        linear_output = np.dot(X, self.weights) + self.bias\n",
        "        return [self.activation(z) for z in linear_output]"
      ],
      "metadata": {
        "id": "wGesBIA5c4MY"
      },
      "execution_count": null,
      "outputs": []
    },
    {
      "cell_type": "code",
      "source": [
        "# Define the logic gates\n",
        "X = np.array([[0, 0], [0, 1], [1, 0], [1, 1]])\n",
        "y_and = np.array([0, 0, 0, 1])  # AND\n",
        "y_or = np.array([0, 1, 1, 1])   # OR\n",
        "y_xor = np.array([0, 1, 1, 0])   # XOR (not linearly separable)"
      ],
      "metadata": {
        "id": "2XKpI5RHc5uD"
      },
      "execution_count": null,
      "outputs": []
    },
    {
      "cell_type": "code",
      "source": [
        "# Train and test AND gate\n",
        "print(\"\\n--- AND Gate ---\")\n",
        "perceptron_and = Perceptron()\n",
        "perceptron_and.fit(X, y_and)\n",
        "print(\"Weights:\", perceptron_and.weights, \"Bias:\", perceptron_and.bias)\n",
        "print(\"Predictions:\", perceptron_and.predict(X))"
      ],
      "metadata": {
        "id": "qm_wHocOc65s"
      },
      "execution_count": null,
      "outputs": []
    },
    {
      "cell_type": "code",
      "source": [
        "# Train and test OR gate\n",
        "print(\"\\n--- OR Gate ---\")\n",
        "perceptron_or = Perceptron()\n",
        "perceptron_or.fit(X, y_or)\n",
        "print(\"Weights:\", perceptron_or.weights, \"Bias:\", perceptron_or.bias)\n",
        "print(\"Predictions:\", perceptron_or.predict(X))"
      ],
      "metadata": {
        "id": "JwVpJU4Dc8PD"
      },
      "execution_count": null,
      "outputs": []
    },
    {
      "cell_type": "code",
      "source": [
        "# Try XOR (will fail)\n",
        "print(\"\\n--- XOR Gate (Will Fail) ---\")\n",
        "perceptron_xor = Perceptron(epochs=1000)  # Even with more epochs, it fails\n",
        "perceptron_xor.fit(X, y_xor)\n",
        "print(\"Weights:\", perceptron_xor.weights, \"Bias:\", perceptron_xor.bias)\n",
        "print(\"Predictions:\", perceptron_xor.predict(X))"
      ],
      "metadata": {
        "id": "0UEWqSt1c9Zz"
      },
      "execution_count": null,
      "outputs": []
    }
  ]
}