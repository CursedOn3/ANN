{
  "nbformat": 4,
  "nbformat_minor": 0,
  "metadata": {
    "colab": {
      "provenance": [],
      "authorship_tag": "ABX9TyOsqelPT+cEUlxR6rxqRN+y",
      "include_colab_link": true
    },
    "kernelspec": {
      "name": "python3",
      "display_name": "Python 3"
    },
    "language_info": {
      "name": "python"
    }
  },
  "cells": [
    {
      "cell_type": "markdown",
      "metadata": {
        "id": "view-in-github",
        "colab_type": "text"
      },
      "source": [
        "<a href=\"https://colab.research.google.com/github/CursedOn3/ANN/blob/main/ANN_Forwaard.ipynb\" target=\"_parent\"><img src=\"https://colab.research.google.com/assets/colab-badge.svg\" alt=\"Open In Colab\"/></a>"
      ]
    },
    {
      "cell_type": "code",
      "execution_count": null,
      "metadata": {
        "id": "-_VNKfE8bmoF"
      },
      "outputs": [],
      "source": [
        "import numpy as np"
      ]
    },
    {
      "cell_type": "code",
      "source": [
        "class NeuralNetwork:\n",
        "    def __init__(self):\n",
        "        # Network architecture (2-2-1)\n",
        "        self.input_size = 2\n",
        "        self.hidden_size = 2\n",
        "        self.output_size = 1\n",
        "\n",
        "        # Initialize weights with random values\n",
        "        self.W1 = np.random.randn(self.input_size, self.hidden_size)  # Input to hidden\n",
        "        self.W2 = np.random.randn(self.hidden_size, self.output_size)  # Hidden to output\n",
        "        self.b1 = np.zeros((1, self.hidden_size))  # Hidden layer bias\n",
        "        self.b2 = np.zeros((1, self.output_size))  # Output layer bias\n",
        "\n",
        "    def sigmoid(self, x):\n",
        "        return 1 / (1 + np.exp(-x))\n",
        "\n",
        "    def sigmoid_derivative(self, x):\n",
        "        return x * (1 - x)\n",
        "\n",
        "    def forward(self, X):\n",
        "        # Forward propagation\n",
        "        self.z1 = np.dot(X, self.W1) + self.b1\n",
        "        self.a1 = self.sigmoid(self.z1)  # Hidden layer activation\n",
        "        self.z2 = np.dot(self.a1, self.W2) + self.b2\n",
        "        self.a2 = self.sigmoid(self.z2)  # Output layer activation\n",
        "        return self.a2\n",
        "\n",
        "    def backward(self, X, y, output, learning_rate=0.1):\n",
        "        # Backward propagation\n",
        "        self.error = y - output\n",
        "        self.delta2 = self.error * self.sigmoid_derivative(output)\n",
        "        self.error_hidden = self.delta2.dot(self.W2.T)\n",
        "        self.delta1 = self.error_hidden * self.sigmoid_derivative(self.a1)\n",
        "\n",
        "        # Update weights and biases\n",
        "        self.W2 += self.a1.T.dot(self.delta2) * learning_rate\n",
        "        self.b2 += np.sum(self.delta2, axis=0, keepdims=True) * learning_rate\n",
        "        self.W1 += X.T.dot(self.delta1) * learning_rate\n",
        "        self.b1 += np.sum(self.delta1, axis=0) * learning_rate\n",
        "\n",
        "    def train(self, X, y, epochs=10000, learning_rate=0.1):\n",
        "        for epoch in range(epochs):\n",
        "            output = self.forward(X)\n",
        "            self.backward(X, y, output, learning_rate)\n",
        "\n",
        "            if epoch % 1000 == 0:\n",
        "                loss = np.mean(np.square(y - output))\n",
        "                print(f\"Epoch {epoch}, Loss: {loss:.4f}\")\n",
        "\n",
        "    def predict(self, X):\n",
        "        return np.round(self.forward(X))\n"
      ],
      "metadata": {
        "id": "1AWJs8cHbt01"
      },
      "execution_count": null,
      "outputs": []
    },
    {
      "cell_type": "code",
      "source": [
        "# XOR dataset\n",
        "X = np.array([[0, 0], [0, 1], [1, 0], [1, 1]])\n",
        "y = np.array([[0], [1], [1], [0]])"
      ],
      "metadata": {
        "id": "ssVeyBWCbwgs"
      },
      "execution_count": null,
      "outputs": []
    },
    {
      "cell_type": "code",
      "source": [
        "# Create and train the neural network\n",
        "nn = NeuralNetwork()\n",
        "print(\"Initial predictions (before training):\")\n",
        "print(nn.predict(X))"
      ],
      "metadata": {
        "id": "q1HHDnIib1XM"
      },
      "execution_count": null,
      "outputs": []
    },
    {
      "cell_type": "code",
      "source": [
        "# Train the neural network\n",
        "nn.train(X, y, epochs=10000, learning_rate=0.1)"
      ],
      "metadata": {
        "id": "SqAHYiqOb6Q8"
      },
      "execution_count": null,
      "outputs": []
    },
    {
      "cell_type": "code",
      "source": [
        "# Display final predictions and weights\n",
        "print(\"\\nFinal predictions (after training):\")\n",
        "print(nn.predict(X))\n",
        "print(\"\\nFinal weights and biases:\")\n",
        "print(\"W1:\", nn.W1)\n",
        "print(\"b1:\", nn.b1)\n",
        "print(\"W2:\", nn.W2)\n",
        "print(\"b2:\", nn.b2)"
      ],
      "metadata": {
        "id": "kr8BovUfb86U"
      },
      "execution_count": null,
      "outputs": []
    }
  ]
}
